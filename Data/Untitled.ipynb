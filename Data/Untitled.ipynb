{
 "cells": [
  {
   "cell_type": "code",
   "execution_count": 39,
   "id": "93ac728b-fcb7-456e-bf05-bcbb92b3fc36",
   "metadata": {},
   "outputs": [],
   "source": [
    "import pandas as pd\n",
    "from sklearn.ensemble import RandomForestRegressor\n",
    "import numpy as np"
   ]
  },
  {
   "cell_type": "code",
   "execution_count": 8,
   "id": "a7c3545a-551d-43be-9e92-fd093a7c2a79",
   "metadata": {},
   "outputs": [],
   "source": [
    " # create regressor object\n",
    "regressor = RandomForestRegressor(n_estimators = 100, random_state = 0)\n",
    "\n",
    "df = pd.read_csv('./ucl.csv')"
   ]
  },
  {
   "cell_type": "code",
   "execution_count": 84,
   "id": "e4f69307-e083-46e0-9d4b-49ce23ed908b",
   "metadata": {},
   "outputs": [],
   "source": [
    "team = [\"Paris S-G\",\"Milan\",\"Bayern Munich\",\"Tottenham\",\"Benfica\",\"Dortmund\",\n",
    "        \"Chelsea\",\"Liverpool\",\"Real Madrid\",\"Napoli\"]\n",
    "df = df.loc[df['Team1'].isin(team) & df['Team2'].isin(team)]\n",
    "df.to_csv('ucl2.csv')"
   ]
  },
  {
   "cell_type": "code",
   "execution_count": 85,
   "id": "caa332b5-f3aa-475b-8185-84c78a2bf7f4",
   "metadata": {},
   "outputs": [],
   "source": [
    "# fit the regressor with x and y data\n",
    "#df1 = df.loc[:,['Team1','Team2','Goal_Team_1']]\n",
    "#df1 = df1.loc[df1['Team1'].isin(team)]\n",
    "#from sklearn.preprocessing import LabelEncoder\n",
    "categorical_cols = ['Team1','Team2']\n",
    "\n",
    "le = LabelEncoder()\n",
    "df1[categorical_cols] = df1[categorical_cols].apply(lambda col: le.fit_transform(col))\n",
    "#rf1 = regressor.fit(x1, y1)\n",
    "\n",
    "# ## predict goal for team 1\n",
    "# test1 = pd.DataFrame({'Team1':team1,\n",
    "#                         'Team2':team2})\n",
    "# pred1 = regressor.predict(test1.to_numpy())"
   ]
  },
  {
   "cell_type": "code",
   "execution_count": 86,
   "id": "979c3d35-177c-4380-8e25-ebc2c1cbffc4",
   "metadata": {},
   "outputs": [],
   "source": [
    "# Import train_test_split function\n",
    "from sklearn.model_selection import train_test_split\n",
    "from sklearn.ensemble import RandomForestClassifier\n",
    "\n",
    "#Get independent variables\n",
    "X1 = df1.drop(columns = ['Goal_Team_1'])\n",
    "\n",
    "#Get dependent variable\n",
    "Goal1= df1.loc[:,'Goal_Team_1']\n",
    "\n",
    "#Turn dependent variable into an array\n",
    "y1 = Goal1.values\n",
    "\n",
    "# Split dataset into training set and test set\n",
    "X_train1, X_test1, y_train1, y_test1 = train_test_split(X1, y1, test_size=0.2)"
   ]
  },
  {
   "cell_type": "code",
   "execution_count": 87,
   "id": "69dcd953-a52d-4b51-8293-7ff5efd3f579",
   "metadata": {},
   "outputs": [
    {
     "data": {
      "text/plain": [
       "RandomForestRegressor(max_depth=6, n_estimators=300)"
      ]
     },
     "execution_count": 87,
     "metadata": {},
     "output_type": "execute_result"
    }
   ],
   "source": [
    "regc1 = RandomForestClassifier(n_estimators=300,max_depth=6)\n",
    "#fit the model with our training data\n",
    "regr1.fit(X_train1, y_train1)"
   ]
  },
  {
   "cell_type": "code",
   "execution_count": 111,
   "id": "3514d179-6a9f-41f7-aa22-9f20b1fbdbf1",
   "metadata": {},
   "outputs": [
    {
     "data": {
      "text/html": [
       "<div>\n",
       "<style scoped>\n",
       "    .dataframe tbody tr th:only-of-type {\n",
       "        vertical-align: middle;\n",
       "    }\n",
       "\n",
       "    .dataframe tbody tr th {\n",
       "        vertical-align: top;\n",
       "    }\n",
       "\n",
       "    .dataframe thead th {\n",
       "        text-align: right;\n",
       "    }\n",
       "</style>\n",
       "<table border=\"1\" class=\"dataframe\">\n",
       "  <thead>\n",
       "    <tr style=\"text-align: right;\">\n",
       "      <th></th>\n",
       "      <th>Team1</th>\n",
       "      <th>Team2</th>\n",
       "    </tr>\n",
       "  </thead>\n",
       "  <tbody>\n",
       "    <tr>\n",
       "      <th>524</th>\n",
       "      <td>8</td>\n",
       "      <td>0</td>\n",
       "    </tr>\n",
       "    <tr>\n",
       "      <th>612</th>\n",
       "      <td>0</td>\n",
       "      <td>2</td>\n",
       "    </tr>\n",
       "    <tr>\n",
       "      <th>290</th>\n",
       "      <td>2</td>\n",
       "      <td>1</td>\n",
       "    </tr>\n",
       "    <tr>\n",
       "      <th>1384</th>\n",
       "      <td>8</td>\n",
       "      <td>0</td>\n",
       "    </tr>\n",
       "    <tr>\n",
       "      <th>1408</th>\n",
       "      <td>2</td>\n",
       "      <td>6</td>\n",
       "    </tr>\n",
       "    <tr>\n",
       "      <th>...</th>\n",
       "      <td>...</td>\n",
       "      <td>...</td>\n",
       "    </tr>\n",
       "    <tr>\n",
       "      <th>771</th>\n",
       "      <td>2</td>\n",
       "      <td>7</td>\n",
       "    </tr>\n",
       "    <tr>\n",
       "      <th>1138</th>\n",
       "      <td>0</td>\n",
       "      <td>7</td>\n",
       "    </tr>\n",
       "    <tr>\n",
       "      <th>1111</th>\n",
       "      <td>2</td>\n",
       "      <td>8</td>\n",
       "    </tr>\n",
       "    <tr>\n",
       "      <th>1208</th>\n",
       "      <td>8</td>\n",
       "      <td>4</td>\n",
       "    </tr>\n",
       "    <tr>\n",
       "      <th>1628</th>\n",
       "      <td>8</td>\n",
       "      <td>0</td>\n",
       "    </tr>\n",
       "  </tbody>\n",
       "</table>\n",
       "<p>201 rows × 2 columns</p>\n",
       "</div>"
      ],
      "text/plain": [
       "      Team1  Team2\n",
       "524       8      0\n",
       "612       0      2\n",
       "290       2      1\n",
       "1384      8      0\n",
       "1408      2      6\n",
       "...     ...    ...\n",
       "771       2      7\n",
       "1138      0      7\n",
       "1111      2      8\n",
       "1208      8      4\n",
       "1628      8      0\n",
       "\n",
       "[201 rows x 2 columns]"
      ]
     },
     "execution_count": 111,
     "metadata": {},
     "output_type": "execute_result"
    }
   ],
   "source": [
    "X_train1"
   ]
  },
  {
   "cell_type": "code",
   "execution_count": 88,
   "id": "190741c0-8809-48dc-8a7d-eba37568fadd",
   "metadata": {},
   "outputs": [
    {
     "name": "stdout",
     "output_type": "stream",
     "text": [
      "1.2312630551168076\n"
     ]
    }
   ],
   "source": [
    "#from sklearn.metrics import mean_squared_error\n",
    "\n",
    "#Calculate the predictions\n",
    "predictions = regr1.predict(X_test1)\n",
    "#Calculate the root mean squared error\n",
    "rmse = np.sqrt(mean_squared_error(y_test1, predictions))\n",
    "print(rmse)"
   ]
  },
  {
   "cell_type": "code",
   "execution_count": 89,
   "id": "cecc04dc-7f7b-471f-b1fd-8f6766c85f5b",
   "metadata": {},
   "outputs": [
    {
     "data": {
      "text/plain": [
       "RandomForestClassifier(max_depth=6, n_estimators=300)"
      ]
     },
     "execution_count": 89,
     "metadata": {},
     "output_type": "execute_result"
    }
   ],
   "source": [
    "categorical_cols = ['Team1','Team2']\n",
    "df1 = df.drop(columns = ['Goal_Team_2','Hasil'])\n",
    "le = LabelEncoder()\n",
    "df1[categorical_cols] = df1[categorical_cols].apply(lambda col: le.fit_transform(col))\n",
    "\n",
    "#Get independent variables\n",
    "X1 = df1.drop(columns = ['Goal_Team_1'])\n",
    "X1 = X1.iloc[:,1:3]\n",
    "\n",
    "#Get dependent variable\n",
    "Goal1= df1.loc[:,'Goal_Team_1']\n",
    "\n",
    "#Turn dependent variable into an array\n",
    "y1 = Goal1.values\n",
    "\n",
    "# Split dataset into training set and test set\n",
    "X_train1, X_test1, y_train1, y_test1 = train_test_split(X1, y1, test_size=0.2)\n",
    "\n",
    "# fit model 1\n",
    "regc1 = RandomForestClassifier(n_estimators=300,max_depth=6)\n",
    "regc1.fit(X_train1, y_train1)"
   ]
  },
  {
   "cell_type": "code",
   "execution_count": 71,
   "id": "43dcd734-50ed-4081-9256-6687c706d29d",
   "metadata": {},
   "outputs": [
    {
     "data": {
      "text/plain": [
       "RandomForestClassifier(max_depth=6, n_estimators=300)"
      ]
     },
     "execution_count": 71,
     "metadata": {},
     "output_type": "execute_result"
    }
   ],
   "source": [
    "df2 = df.drop(columns = ['Goal_Team_1','Hasil'])\n",
    "le = LabelEncoder()\n",
    "df2[categorical_cols] = df2[categorical_cols].apply(lambda col: le.fit_transform(col))\n",
    "\n",
    "#Get independent variables\n",
    "X2 = df2.drop(columns = ['Goal_Team_2'])\n",
    "X2 = X2.iloc[:,1:3]\n",
    "\n",
    "#Get dependent variable\n",
    "Goal2= df2.loc[:,'Goal_Team_2']\n",
    "\n",
    "#Turn dependent variable into an array\n",
    "y2 = Goal2.values\n",
    "\n",
    "# Split dataset into training set and test set\n",
    "X_train2, X_test2, y_train2, y_test2 = train_test_split(X2, y2, test_size=0.2)\n",
    "\n",
    "# fit model 1\n",
    "regc2 = RandomForestClassifier(n_estimators=300,max_depth=6)\n",
    "regc2.fit(X_train2, y_train2)"
   ]
  },
  {
   "cell_type": "code",
   "execution_count": 108,
   "id": "f395f1bb-1588-4846-be01-462522be5647",
   "metadata": {},
   "outputs": [
    {
     "data": {
      "text/plain": [
       "GridSearchCV(cv=3, estimator=RandomForestClassifier(), n_jobs=-1,\n",
       "             param_grid={'max_depth': [1, 26, 51, 76], 'max_features': [2],\n",
       "                         'min_samples_leaf': [1, 6],\n",
       "                         'min_samples_split': [1, 6],\n",
       "                         'n_estimators': [20, 70, 120, 170, 220, 270]},\n",
       "             verbose=2)"
      ]
     },
     "execution_count": 108,
     "metadata": {},
     "output_type": "execute_result"
    }
   ],
   "source": [
    "from sklearn.model_selection import GridSearchCV\n",
    "# Create the parameter grid based on the results of random search \n",
    "param_grid = {\n",
    "    'max_depth': list(range(1,101,25)),\n",
    "    'max_features': [2],\n",
    "    'min_samples_leaf': list(range(1,11,5)),\n",
    "    'min_samples_split': list(range(1,11,5)),\n",
    "    'n_estimators': list(range(20,301,50))\n",
    "}\n",
    "# Create a based model\n",
    "rc = RandomForestClassifier()\n",
    "# Instantiate the grid search model\n",
    "grid_search = GridSearchCV(estimator = rc, param_grid = param_grid, \n",
    "                          cv = 3, n_jobs = -1, verbose = 2)\n",
    "grid_search"
   ]
  },
  {
   "cell_type": "code",
   "execution_count": 109,
   "id": "f75edead-6df9-454d-9254-3d62c1edbc5e",
   "metadata": {},
   "outputs": [
    {
     "name": "stdout",
     "output_type": "stream",
     "text": [
      "Fitting 3 folds for each of 96 candidates, totalling 288 fits\n"
     ]
    },
    {
     "name": "stderr",
     "output_type": "stream",
     "text": [
      "D:\\Anaconda3\\lib\\site-packages\\sklearn\\model_selection\\_validation.py:372: FitFailedWarning: \n",
      "144 fits failed out of a total of 288.\n",
      "The score on these train-test partitions for these parameters will be set to nan.\n",
      "If these failures are not expected, you can try to debug them by setting error_score='raise'.\n",
      "\n",
      "Below are more details about the failures:\n",
      "--------------------------------------------------------------------------------\n",
      "144 fits failed with the following error:\n",
      "Traceback (most recent call last):\n",
      "  File \"D:\\Anaconda3\\lib\\site-packages\\sklearn\\model_selection\\_validation.py\", line 680, in _fit_and_score\n",
      "    estimator.fit(X_train, y_train, **fit_params)\n",
      "  File \"D:\\Anaconda3\\lib\\site-packages\\sklearn\\ensemble\\_forest.py\", line 450, in fit\n",
      "    trees = Parallel(\n",
      "  File \"D:\\Anaconda3\\lib\\site-packages\\joblib\\parallel.py\", line 1043, in __call__\n",
      "    if self.dispatch_one_batch(iterator):\n",
      "  File \"D:\\Anaconda3\\lib\\site-packages\\joblib\\parallel.py\", line 861, in dispatch_one_batch\n",
      "    self._dispatch(tasks)\n",
      "  File \"D:\\Anaconda3\\lib\\site-packages\\joblib\\parallel.py\", line 779, in _dispatch\n",
      "    job = self._backend.apply_async(batch, callback=cb)\n",
      "  File \"D:\\Anaconda3\\lib\\site-packages\\joblib\\_parallel_backends.py\", line 208, in apply_async\n",
      "    result = ImmediateResult(func)\n",
      "  File \"D:\\Anaconda3\\lib\\site-packages\\joblib\\_parallel_backends.py\", line 572, in __init__\n",
      "    self.results = batch()\n",
      "  File \"D:\\Anaconda3\\lib\\site-packages\\joblib\\parallel.py\", line 262, in __call__\n",
      "    return [func(*args, **kwargs)\n",
      "  File \"D:\\Anaconda3\\lib\\site-packages\\joblib\\parallel.py\", line 262, in <listcomp>\n",
      "    return [func(*args, **kwargs)\n",
      "  File \"D:\\Anaconda3\\lib\\site-packages\\sklearn\\utils\\fixes.py\", line 216, in __call__\n",
      "    return self.function(*args, **kwargs)\n",
      "  File \"D:\\Anaconda3\\lib\\site-packages\\sklearn\\ensemble\\_forest.py\", line 185, in _parallel_build_trees\n",
      "    tree.fit(X, y, sample_weight=curr_sample_weight, check_input=False)\n",
      "  File \"D:\\Anaconda3\\lib\\site-packages\\sklearn\\tree\\_classes.py\", line 937, in fit\n",
      "    super().fit(\n",
      "  File \"D:\\Anaconda3\\lib\\site-packages\\sklearn\\tree\\_classes.py\", line 250, in fit\n",
      "    raise ValueError(\n",
      "ValueError: min_samples_split must be an integer greater than 1 or a float in (0.0, 1.0]; got the integer 1\n",
      "\n",
      "  warnings.warn(some_fits_failed_message, FitFailedWarning)\n",
      "D:\\Anaconda3\\lib\\site-packages\\sklearn\\model_selection\\_search.py:969: UserWarning: One or more of the test scores are non-finite: [       nan        nan        nan        nan        nan        nan\n",
      " 0.32338308 0.31343284 0.33333333 0.34328358 0.32835821 0.33333333\n",
      "        nan        nan        nan        nan        nan        nan\n",
      " 0.30348259 0.33830846 0.32338308 0.31840796 0.31840796 0.31840796\n",
      "        nan        nan        nan        nan        nan        nan\n",
      " 0.50248756 0.50746269 0.53233831 0.50248756 0.49253731 0.52736318\n",
      "        nan        nan        nan        nan        nan        nan\n",
      " 0.37810945 0.4079602  0.38308458 0.39303483 0.3880597  0.37313433\n",
      "        nan        nan        nan        nan        nan        nan\n",
      " 0.48258706 0.52238806 0.49253731 0.49253731 0.51243781 0.51243781\n",
      "        nan        nan        nan        nan        nan        nan\n",
      " 0.39800995 0.3880597  0.38308458 0.38308458 0.37313433 0.3880597\n",
      "        nan        nan        nan        nan        nan        nan\n",
      " 0.53731343 0.50248756 0.52238806 0.49751244 0.51243781 0.50746269\n",
      "        nan        nan        nan        nan        nan        nan\n",
      " 0.37810945 0.3681592  0.37810945 0.3880597  0.37810945 0.37313433]\n",
      "  warnings.warn(\n"
     ]
    },
    {
     "data": {
      "text/plain": [
       "RandomForestClassifier(max_depth=76, max_features=2, min_samples_split=6,\n",
       "                       n_estimators=20)"
      ]
     },
     "execution_count": 109,
     "metadata": {},
     "output_type": "execute_result"
    }
   ],
   "source": [
    "# Fit the grid search to the data\n",
    "grid_search.fit(X_train1, y_train1)\n",
    "grid_search.best_params_\n",
    "\n",
    "best_grid = grid_search.best_estimator_\n",
    "\n",
    "# def evaluate(model, test_features, test_labels):\n",
    "#     predictions = model.predict(test_features)\n",
    "#     errors = abs(predictions - test_labels)\n",
    "#     mape = 100 * np.mean(errors / test_labels)\n",
    "#     accuracy = 100 - mape\n",
    "#     print('Model Performance')\n",
    "#     print('Average Error: {:0.4f} degrees.'.format(np.mean(errors)))\n",
    "#     print('Accuracy = {:0.2f}%.'.format(accuracy))\n",
    "    \n",
    "#     return accuracy\n",
    "best_grid\n",
    "# grid_accuracy = evaluate(best_grid, test_features, test_labels)\n",
    "\n",
    "# print('Improvement of {:0.2f}%.'.format( 100 * (grid_accuracy - base_accuracy) / base_accuracy))\n"
   ]
  },
  {
   "cell_type": "code",
   "execution_count": 70,
   "id": "67da820a-0617-4b3b-b574-948f285150a9",
   "metadata": {},
   "outputs": [
    {
     "data": {
      "text/plain": [
       "RandomForestClassifier(max_depth=90, max_features=3, min_samples_leaf=3,\n",
       "                       min_samples_split=10, n_estimators=300)"
      ]
     },
     "execution_count": 70,
     "metadata": {},
     "output_type": "execute_result"
    }
   ],
   "source": [
    "best_grid"
   ]
  },
  {
   "cell_type": "code",
   "execution_count": 112,
   "id": "3b19c4ca-adfb-49cd-a6b9-b1780b8ae9c5",
   "metadata": {},
   "outputs": [
    {
     "data": {
      "text/plain": [
       "'1.4.4'"
      ]
     },
     "execution_count": 112,
     "metadata": {},
     "output_type": "execute_result"
    }
   ],
   "source": [
    "pd.__version__"
   ]
  },
  {
   "cell_type": "code",
   "execution_count": 114,
   "id": "f696b148-e102-4e24-b890-3e9a99f1f155",
   "metadata": {},
   "outputs": [
    {
     "data": {
      "text/plain": [
       "'1.0.2'"
      ]
     },
     "execution_count": 114,
     "metadata": {},
     "output_type": "execute_result"
    }
   ],
   "source": [
    "sklearn.__version__"
   ]
  },
  {
   "cell_type": "code",
   "execution_count": 115,
   "id": "589e2e60-9a59-4cf2-9437-cc4b5f55acf0",
   "metadata": {},
   "outputs": [
    {
     "ename": "ModuleNotFoundError",
     "evalue": "No module named 'streamlit'",
     "output_type": "error",
     "traceback": [
      "\u001b[1;31m---------------------------------------------------------------------------\u001b[0m",
      "\u001b[1;31mModuleNotFoundError\u001b[0m                       Traceback (most recent call last)",
      "\u001b[1;32m~\\AppData\\Local\\Temp\\ipykernel_12632\\942006150.py\u001b[0m in \u001b[0;36m<module>\u001b[1;34m\u001b[0m\n\u001b[1;32m----> 1\u001b[1;33m \u001b[1;32mimport\u001b[0m \u001b[0mstreamlit\u001b[0m \u001b[1;32mas\u001b[0m \u001b[0mst\u001b[0m\u001b[1;33m\u001b[0m\u001b[1;33m\u001b[0m\u001b[0m\n\u001b[0m",
      "\u001b[1;31mModuleNotFoundError\u001b[0m: No module named 'streamlit'"
     ]
    }
   ],
   "source": [
    "# streamlit 1.16.0"
   ]
  },
  {
   "cell_type": "code",
   "execution_count": null,
   "id": "0530e1f9-14df-48fd-b672-547783df7d71",
   "metadata": {},
   "outputs": [],
   "source": []
  }
 ],
 "metadata": {
  "kernelspec": {
   "display_name": "Python 3 (ipykernel)",
   "language": "python",
   "name": "python3"
  },
  "language_info": {
   "codemirror_mode": {
    "name": "ipython",
    "version": 3
   },
   "file_extension": ".py",
   "mimetype": "text/x-python",
   "name": "python",
   "nbconvert_exporter": "python",
   "pygments_lexer": "ipython3",
   "version": "3.9.13"
  }
 },
 "nbformat": 4,
 "nbformat_minor": 5
}
